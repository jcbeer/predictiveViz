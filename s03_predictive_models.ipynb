{
 "cells": [
  {
   "cell_type": "markdown",
   "metadata": {},
   "source": [
    "Predictive models"
   ]
  },
  {
   "cell_type": "code",
   "execution_count": 1,
   "metadata": {},
   "outputs": [
    {
     "name": "stdout",
     "output_type": "stream",
     "text": [
      "      0     1       2       3       4       5       6       7       8     \\\n",
      "0  50433.0   5.0 -0.0621 -0.0703  0.1083  0.1345 -0.0365  0.0839  0.0589   \n",
      "1  50434.0  22.0  0.1438 -0.0196  0.0686  0.1574 -0.0495 -0.3282 -0.1005   \n",
      "2  50435.0   6.0  0.1437 -0.0697  0.0613  0.1556  0.0228 -0.0978 -0.2464   \n",
      "3  50436.0   9.0  0.2942  0.1377  0.1333  0.2336  0.1447  0.3166  0.1992   \n",
      "4  50441.0  31.0  0.2639 -0.1567 -0.0040  0.3274  0.0209  0.0368 -0.1008   \n",
      "\n",
      "     9      ...      5244    5245    5246    5247    5248    5249    5250  \\\n",
      "0  0.1294   ...    0.0027  0.0989  0.2442  0.2974  0.2802  0.3082  0.0073   \n",
      "1 -0.2973   ...    0.2642  0.2452  0.2902  0.3234  0.0482  0.1741  0.3826   \n",
      "2 -0.0511   ...    0.2201  0.1599 -0.0269 -0.0595 -0.0038  0.1384  0.1759   \n",
      "3  0.1069   ...    0.4682  0.3324  0.0662  0.2098  0.2361  0.1049  0.0885   \n",
      "4  0.0468   ...    0.2101 -0.1521 -0.0809 -0.1130  0.1173  0.1127  0.0463   \n",
      "\n",
      "     5251    5252    5253  \n",
      "0 -0.0596  0.1995  0.0153  \n",
      "1 -0.0497 -0.1187 -0.0240  \n",
      "2  0.1798  0.2167  0.1865  \n",
      "3  0.2251  0.4169  0.3474  \n",
      "4  0.1808  0.2280  0.1089  \n",
      "\n",
      "[5 rows x 5254 columns]\n"
     ]
    },
    {
     "data": {
      "text/plain": [
       "(219, 5254)"
      ]
     },
     "execution_count": 1,
     "metadata": {},
     "output_type": "execute_result"
    }
   ],
   "source": [
    "import pandas as pd\n",
    "# Load ABIDE data\n",
    "url = 'https://github.com/jcbeer/predictiveViz/raw/master/data/abide_5252.csv'\n",
    "df = pd.read_csv(url, index_col=False, header=None)\n",
    "# first column is ID\n",
    "# second column is Social Responsiveness Scale Score\n",
    "# remaining columns are voxel level data\n",
    "print(df.head(5))\n",
    "df.shape"
   ]
  },
  {
   "cell_type": "code",
   "execution_count": 3,
   "metadata": {},
   "outputs": [],
   "source": [
    "# reorganize data\n",
    "subid = df.iloc[:,0].astype(int)\n",
    "y = df.iloc[:,1]\n",
    "X = df.iloc[:,2:]"
   ]
  },
  {
   "cell_type": "code",
   "execution_count": 4,
   "metadata": {},
   "outputs": [],
   "source": [
    "# randomly split into training and test\n",
    "import math\n",
    "# set proportion that is test set\n",
    "test_proportion = 0.2\n",
    "# set number that is test set\n",
    "total_n = df.shape[0]\n",
    "test_n = math.ceil(test_proportion*total_n)\n",
    "test_n\n",
    "# randomly select test set\n",
    "import numpy as np\n",
    "# set random seed\n",
    "np.random.seed(seed=1)\n",
    "# divide indicies into training and test\n",
    "test_ids = np.random.choice(total_n, test_n)\n",
    "train_ids = np.delete(np.arange(df.shape[0] - 1), test_ids)\n",
    "# divide data into training and test \n",
    "subid_train = subid.iloc[train_ids]\n",
    "subid_test = subid.iloc[test_ids]\n",
    "y_train = y.iloc[train_ids]\n",
    "y_test = y.iloc[test_ids]\n",
    "X_train = X.iloc[train_ids]\n",
    "X_test = X.iloc[test_ids]"
   ]
  },
  {
   "cell_type": "code",
   "execution_count": 5,
   "metadata": {},
   "outputs": [
    {
     "data": {
      "text/plain": [
       "(219, 5252)"
      ]
     },
     "execution_count": 5,
     "metadata": {},
     "output_type": "execute_result"
    }
   ],
   "source": [
    "X.shape"
   ]
  },
  {
   "cell_type": "code",
   "execution_count": 9,
   "metadata": {},
   "outputs": [],
   "source": [
    "# center the y data\n",
    "# based on training set mean\n",
    "y_train_mean = y_train.mean()\n",
    "y_train_centered = y_train - y_train_mean\n",
    "y_test_centered = y_test - y_train_mean\n",
    "# standardize X data to have column mean zero and SD one\n",
    "# based on training set column means and SD\n",
    "from sklearn.preprocessing import StandardScaler\n",
    "X_sc = StandardScaler()\n",
    "X_sc.fit(X_train)\n",
    "X_train_std = X_sc.transform(X_train)\n",
    "X_test_std = X_sc.transform(X_test)"
   ]
  },
  {
   "cell_type": "code",
   "execution_count": 10,
   "metadata": {},
   "outputs": [
    {
     "data": {
      "text/plain": [
       "3.853791109207323e-15"
      ]
     },
     "execution_count": 10,
     "metadata": {},
     "output_type": "execute_result"
    }
   ],
   "source": [
    "y_train_centered.mean()"
   ]
  },
  {
   "cell_type": "code",
   "execution_count": 38,
   "metadata": {},
   "outputs": [
    {
     "name": "stderr",
     "output_type": "stream",
     "text": [
      "/anaconda3/lib/python3.6/site-packages/sklearn/linear_model/coordinate_descent.py:491: ConvergenceWarning: Objective did not converge. You might want to increase the number of iterations. Fitting data with very small alpha may cause precision problems.\n",
      "  ConvergenceWarning)\n"
     ]
    },
    {
     "data": {
      "text/plain": [
       "ElasticNet(alpha=1, copy_X=True, fit_intercept=False, l1_ratio=0.25,\n",
       "      max_iter=10000, normalize=True, positive=False, precompute=False,\n",
       "      random_state=1, selection='random', tol=0.0001, warm_start=False)"
      ]
     },
     "execution_count": 38,
     "metadata": {},
     "output_type": "execute_result"
    }
   ],
   "source": [
    "# Elastic net\n",
    "from sklearn.linear_model import ElasticNet\n",
    "regr = ElasticNet(random_state=1)\n",
    "regr.fit(X_train_std, y_train_centered)\n",
    "ElasticNet(alpha=1, copy_X=True, fit_intercept=False, l1_ratio=0.25,\n",
    "      max_iter=10000, normalize=True, positive=False, precompute=False,\n",
    "      random_state=1, selection='random', tol=0.0001, warm_start=False)"
   ]
  },
  {
   "cell_type": "code",
   "execution_count": 36,
   "metadata": {},
   "outputs": [
    {
     "name": "stdout",
     "output_type": "stream",
     "text": [
      "[-0.         -0.         -0.32648086 ...  0.         -0.\n",
      "  0.        ]\n",
      "-1.539054097540146e-15\n",
      "[ 6.67098822e+00  3.47545679e+00  6.73786818e+00 -2.32608616e+00\n",
      "  1.82262783e+00  6.88173486e+00  3.58711639e+00  5.88815993e+00\n",
      "  4.90229615e+00  6.34767186e+00 -2.66524217e+00 -3.93584162e+00\n",
      "  4.24058155e+00  1.36031644e+00 -1.41363287e-03 -4.05306832e+00\n",
      "  8.05412566e+00 -2.40636594e+00  4.08642025e+00 -5.33699395e+00\n",
      "  1.98528649e+00 -6.06252898e+00  1.31314336e+00  2.28800117e+00\n",
      "  2.77167188e+00 -3.54981580e+00 -3.54981580e+00  3.34884019e+00\n",
      "  2.96823500e+00 -1.92721794e+00 -2.32608616e+00 -3.24842495e+00\n",
      " -3.21713929e+00 -7.06592908e+00 -2.12451305e+00 -1.87722741e+00\n",
      "  2.57906809e+00  2.84771564e+00  9.25876078e-01  7.65459380e-01\n",
      "  7.60057152e+00  2.28064872e+00 -1.92721794e+00  1.23836622e+00]\n"
     ]
    }
   ],
   "source": [
    "print(regr.coef_) \n",
    "print(regr.intercept_) \n",
    "print(regr.predict(X_test)) "
   ]
  },
  {
   "cell_type": "code",
   "execution_count": 31,
   "metadata": {},
   "outputs": [
    {
     "name": "stdout",
     "output_type": "stream",
     "text": [
      "37     148.0\n",
      "140      7.0\n",
      "72      63.0\n",
      "137      5.0\n",
      "203    123.0\n",
      "133    118.0\n",
      "79      68.0\n",
      "192     26.0\n",
      "144     26.0\n",
      "129     73.0\n",
      "204     79.0\n",
      "71      48.0\n",
      "134     66.0\n",
      "25       6.0\n",
      "178     13.0\n",
      "20       9.0\n",
      "101     95.0\n",
      "146     50.0\n",
      "212     15.0\n",
      "139     29.0\n",
      "156     15.0\n",
      "157     52.0\n",
      "142     31.0\n",
      "50      93.0\n",
      "68      85.0\n",
      "215     23.0\n",
      "215     23.0\n",
      "96      99.0\n",
      "86      80.0\n",
      "141     40.0\n",
      "137      5.0\n",
      "7       35.0\n",
      "63       3.0\n",
      "61       2.0\n",
      "22       9.0\n",
      "57       4.0\n",
      "1       22.0\n",
      "128     90.0\n",
      "60      35.0\n",
      "209     77.0\n",
      "8        6.0\n",
      "216     12.0\n",
      "141     40.0\n",
      "115     82.0\n",
      "Name: 1, dtype: float64\n",
      "[69.42558003 68.01422997 70.24327014 50.15619337 74.35123619 70.29446148\n",
      " 78.29588784 69.89686297 65.05920883 78.48627593 57.14323453 62.51578235\n",
      " 59.57022666 57.42532197 62.88786342 47.05861616 80.67801036 47.21312585\n",
      " 75.67896334 46.49285903 67.32307323 41.16728141 70.46743599 61.74888273\n",
      " 59.17085242 60.26210724 60.26210724 66.24210251 72.34075423 56.71020538\n",
      " 50.15619337 48.70941391 53.29816661 46.94731077 57.35539183 60.17388094\n",
      " 65.12786565 61.88337504 68.56091129 52.64590602 75.42670881 68.071648\n",
      " 56.71020538 59.14980986]\n"
     ]
    },
    {
     "data": {
      "text/plain": [
       "37    -78.574420\n",
       "140    61.014230\n",
       "72      7.243270\n",
       "137    45.156193\n",
       "203   -48.648764\n",
       "133   -47.705539\n",
       "79     10.295888\n",
       "192    43.896863\n",
       "144    39.059209\n",
       "129     5.486276\n",
       "204   -21.856765\n",
       "71     14.515782\n",
       "134    -6.429773\n",
       "25     51.425322\n",
       "178    49.887863\n",
       "20     38.058616\n",
       "101   -14.321990\n",
       "146    -2.786874\n",
       "212    60.678963\n",
       "139    17.492859\n",
       "156    52.323073\n",
       "157   -10.832719\n",
       "142    39.467436\n",
       "50    -31.251117\n",
       "68    -25.829148\n",
       "215    37.262107\n",
       "215    37.262107\n",
       "96    -32.757897\n",
       "86     -7.659246\n",
       "141    16.710205\n",
       "137    45.156193\n",
       "7      13.709414\n",
       "63     50.298167\n",
       "61     44.947311\n",
       "22     48.355392\n",
       "57     56.173881\n",
       "1      43.127866\n",
       "128   -28.116625\n",
       "60     33.560911\n",
       "209   -24.354094\n",
       "8      69.426709\n",
       "216    56.071648\n",
       "141    16.710205\n",
       "115   -22.850190\n",
       "Name: 1, dtype: float64"
      ]
     },
     "execution_count": 31,
     "metadata": {},
     "output_type": "execute_result"
    }
   ],
   "source": [
    "# calculate prediction error\n",
    "pred_y_test = regr.predict(X_test)\n",
    "print(y_test)\n",
    "print(pred_y_test + y_train_mean)\n",
    "np.subtract(pred_y_test, y_test_centered)"
   ]
  },
  {
   "cell_type": "code",
   "execution_count": null,
   "metadata": {},
   "outputs": [],
   "source": [
    "# Random forest"
   ]
  }
 ],
 "metadata": {
  "kernelspec": {
   "display_name": "Python 3",
   "language": "python",
   "name": "python3"
  },
  "language_info": {
   "codemirror_mode": {
    "name": "ipython",
    "version": 3
   },
   "file_extension": ".py",
   "mimetype": "text/x-python",
   "name": "python",
   "nbconvert_exporter": "python",
   "pygments_lexer": "ipython3",
   "version": "3.6.5"
  }
 },
 "nbformat": 4,
 "nbformat_minor": 2
}
