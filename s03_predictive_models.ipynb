{
 "cells": [
  {
   "cell_type": "markdown",
   "metadata": {},
   "source": [
    "Predictive models"
   ]
  },
  {
   "cell_type": "code",
   "execution_count": 107,
   "metadata": {},
   "outputs": [
    {
     "name": "stdout",
     "output_type": "stream",
     "text": [
      "      0     1       2       3       4       5       6       7       8     \\\n",
      "0  50433.0   5.0 -0.0621 -0.0703  0.1083  0.1345 -0.0365  0.0839  0.0589   \n",
      "1  50434.0  22.0  0.1438 -0.0196  0.0686  0.1574 -0.0495 -0.3282 -0.1005   \n",
      "2  50435.0   6.0  0.1437 -0.0697  0.0613  0.1556  0.0228 -0.0978 -0.2464   \n",
      "3  50436.0   9.0  0.2942  0.1377  0.1333  0.2336  0.1447  0.3166  0.1992   \n",
      "4  50441.0  31.0  0.2639 -0.1567 -0.0040  0.3274  0.0209  0.0368 -0.1008   \n",
      "\n",
      "     9      ...      5244    5245    5246    5247    5248    5249    5250  \\\n",
      "0  0.1294   ...    0.0027  0.0989  0.2442  0.2974  0.2802  0.3082  0.0073   \n",
      "1 -0.2973   ...    0.2642  0.2452  0.2902  0.3234  0.0482  0.1741  0.3826   \n",
      "2 -0.0511   ...    0.2201  0.1599 -0.0269 -0.0595 -0.0038  0.1384  0.1759   \n",
      "3  0.1069   ...    0.4682  0.3324  0.0662  0.2098  0.2361  0.1049  0.0885   \n",
      "4  0.0468   ...    0.2101 -0.1521 -0.0809 -0.1130  0.1173  0.1127  0.0463   \n",
      "\n",
      "     5251    5252    5253  \n",
      "0 -0.0596  0.1995  0.0153  \n",
      "1 -0.0497 -0.1187 -0.0240  \n",
      "2  0.1798  0.2167  0.1865  \n",
      "3  0.2251  0.4169  0.3474  \n",
      "4  0.1808  0.2280  0.1089  \n",
      "\n",
      "[5 rows x 5254 columns]\n"
     ]
    },
    {
     "data": {
      "text/plain": [
       "(219, 5254)"
      ]
     },
     "execution_count": 107,
     "metadata": {},
     "output_type": "execute_result"
    }
   ],
   "source": [
    "import pandas as pd\n",
    "# Load ABIDE data\n",
    "url = 'https://github.com/jcbeer/predictiveViz/raw/master/data/abide_5252.csv'\n",
    "df = pd.read_csv(url, index_col=False, header=None)\n",
    "# first column is ID\n",
    "# second column is Social Responsiveness Scale Score\n",
    "# remaining columns are voxel level data\n",
    "print(df.head(5))\n",
    "df.shape"
   ]
  },
  {
   "cell_type": "code",
   "execution_count": 108,
   "metadata": {},
   "outputs": [],
   "source": [
    "total_n = df.shape[0]"
   ]
  },
  {
   "cell_type": "code",
   "execution_count": 109,
   "metadata": {},
   "outputs": [],
   "source": [
    "# reorganize data\n",
    "subid = df.iloc[:,0].astype(int)\n",
    "y = df.iloc[:,1]\n",
    "X = df.iloc[:,2:]"
   ]
  },
  {
   "cell_type": "code",
   "execution_count": 113,
   "metadata": {},
   "outputs": [],
   "source": [
    "# randomly split into training and test\n",
    "import math\n",
    "# set proportion that is test set\n",
    "test_proportion = 0.2\n",
    "# set number that is test set\n",
    "test_n = math.ceil(0.2*df.shape[0])\n",
    "test_n\n",
    "# randomly select test set\n",
    "import numpy as np\n",
    "# set random seed\n",
    "np.random.seed(seed=1)\n",
    "# divide indicies into training and test\n",
    "test_ids = np.random.choice(total_n, test_n)\n",
    "train_ids = np.delete(np.arange(df.shape[0] - 1), test_ids)\n",
    "# divide data into training and test \n",
    "subid_train = subid.iloc[train_ids]\n",
    "subid_test = subid.iloc[test_ids]\n",
    "y_train = y.iloc[train_ids]\n",
    "y_test = y.iloc[test_ids]\n",
    "X_train = X.iloc[train_ids]\n",
    "X_test = X.iloc[test_ids]"
   ]
  },
  {
   "cell_type": "code",
   "execution_count": 119,
   "metadata": {},
   "outputs": [
    {
     "data": {
      "text/plain": [
       "(219, 5252)"
      ]
     },
     "execution_count": 119,
     "metadata": {},
     "output_type": "execute_result"
    }
   ],
   "source": [
    "X.shape"
   ]
  },
  {
   "cell_type": "code",
   "execution_count": 146,
   "metadata": {},
   "outputs": [],
   "source": [
    "# center the y data\n",
    "# based on training set mean\n",
    "y_train_mean = y_train.mean()\n",
    "y_train_centered = y_train - y_train_mean\n",
    "y_test_centered = y_test - y_train_mean\n",
    "# standardize X data to have column mean zero and SD one\n",
    "# based on training set column means and SD\n",
    "from sklearn.preprocessing import StandardScaler\n",
    "X_sc = StandardScaler()\n",
    "X_sc.fit(X_train)\n",
    "X_train_std = X_sc.transform(X_train)\n",
    "X_test_std = X_sc.transform(X_test)"
   ]
  },
  {
   "cell_type": "code",
   "execution_count": 168,
   "metadata": {},
   "outputs": [
    {
     "data": {
      "text/plain": [
       "ElasticNet(alpha=10000, copy_X=True, fit_intercept=False, l1_ratio=0.5,\n",
       "      max_iter=10000, normalize=False, positive=True, precompute=False,\n",
       "      random_state=0, selection='cyclic', tol=0.001, warm_start=False)"
      ]
     },
     "execution_count": 168,
     "metadata": {},
     "output_type": "execute_result"
    }
   ],
   "source": [
    "# Elastic net\n",
    "from sklearn.linear_model import ElasticNet\n",
    "regr = ElasticNet(random_state=0)\n",
    "regr.fit(X_train, y_train_centered)\n",
    "ElasticNet(alpha=1000, copy_X=True, fit_intercept=False, l1_ratio=0.5,\n",
    "      max_iter=10000, normalize=False, positive=True, precompute=False,\n",
    "      random_state=0, selection='cyclic', tol=0.001, warm_start=False)"
   ]
  },
  {
   "cell_type": "code",
   "execution_count": 169,
   "metadata": {},
   "outputs": [
    {
     "name": "stdout",
     "output_type": "stream",
     "text": [
      "[-0. -0. -0. ...  0. -0.  0.]\n",
      "-4.648244551748678\n",
      "[ 10.95665347   9.54530341  11.77434359  -8.31273319  15.88230964\n",
      "  11.82553492  19.82696129  11.42793642   6.59028228  20.01734938\n",
      "  -1.32569202   4.0468558    1.10130011  -1.04360459   4.41893686\n",
      " -11.41031039  22.20908381 -11.2558007   17.21003679 -11.97606753\n",
      "   8.85414668 -17.30164514  11.99850943   3.27995618   0.70192586\n",
      "   1.79318069   1.79318069   7.77317595  13.87182768  -1.75872117\n",
      "  -8.31273319  -9.75951265  -5.17075994 -11.52161578  -1.11353472\n",
      "   1.70495439   6.65893909   3.41444849  10.09198474  -5.82302054\n",
      "  16.95778226   9.60272145  -1.75872117   0.68088331]\n"
     ]
    }
   ],
   "source": [
    "print(regr.coef_) \n",
    "print(regr.intercept_) \n",
    "print(regr.predict(X_test)) "
   ]
  },
  {
   "cell_type": "code",
   "execution_count": 141,
   "metadata": {},
   "outputs": [
    {
     "name": "stdout",
     "output_type": "stream",
     "text": [
      "37     148.0\n",
      "140      7.0\n",
      "72      63.0\n",
      "137      5.0\n",
      "203    123.0\n",
      "133    118.0\n",
      "79      68.0\n",
      "192     26.0\n",
      "144     26.0\n",
      "129     73.0\n",
      "204     79.0\n",
      "71      48.0\n",
      "134     66.0\n",
      "25       6.0\n",
      "178     13.0\n",
      "20       9.0\n",
      "101     95.0\n",
      "146     50.0\n",
      "212     15.0\n",
      "139     29.0\n",
      "156     15.0\n",
      "157     52.0\n",
      "142     31.0\n",
      "50      93.0\n",
      "68      85.0\n",
      "215     23.0\n",
      "215     23.0\n",
      "96      99.0\n",
      "86      80.0\n",
      "141     40.0\n",
      "137      5.0\n",
      "7       35.0\n",
      "63       3.0\n",
      "61       2.0\n",
      "22       9.0\n",
      "57       4.0\n",
      "1       22.0\n",
      "128     90.0\n",
      "60      35.0\n",
      "209     77.0\n",
      "8        6.0\n",
      "216     12.0\n",
      "141     40.0\n",
      "115     82.0\n",
      "Name: 1, dtype: float64\n",
      "[69.42558003 68.01422997 70.24327014 50.15619337 74.35123619 70.29446148\n",
      " 78.29588784 69.89686297 65.05920883 78.48627593 57.14323453 62.51578235\n",
      " 59.57022666 57.42532197 62.88786342 47.05861616 80.67801036 47.21312585\n",
      " 75.67896334 46.49285903 67.32307323 41.16728141 70.46743599 61.74888273\n",
      " 59.17085242 60.26210724 60.26210724 66.24210251 72.34075423 56.71020538\n",
      " 50.15619337 48.70941391 53.29816661 46.94731077 57.35539183 60.17388094\n",
      " 65.12786565 61.88337504 68.56091129 52.64590602 75.42670881 68.071648\n",
      " 56.71020538 59.14980986]\n"
     ]
    },
    {
     "data": {
      "text/plain": [
       "37    -137.043347\n",
       "140      2.545303\n",
       "72     -51.225656\n",
       "137    -13.312733\n",
       "203   -107.117690\n",
       "133   -106.174465\n",
       "79     -48.173039\n",
       "192    -14.572064\n",
       "144    -19.409718\n",
       "129    -52.982651\n",
       "204    -80.325692\n",
       "71     -43.953144\n",
       "134    -64.898700\n",
       "25      -7.043605\n",
       "178     -8.581063\n",
       "20     -20.410310\n",
       "101    -72.790916\n",
       "146    -61.255801\n",
       "212      2.210037\n",
       "139    -40.976068\n",
       "156     -6.145853\n",
       "157    -69.301645\n",
       "142    -19.001491\n",
       "50     -89.720044\n",
       "68     -84.298074\n",
       "215    -21.206819\n",
       "215    -21.206819\n",
       "96     -91.226824\n",
       "86     -66.128172\n",
       "141    -41.758721\n",
       "137    -13.312733\n",
       "7      -44.759513\n",
       "63      -8.170760\n",
       "61     -13.521616\n",
       "22     -10.113535\n",
       "57      -2.295046\n",
       "1      -15.341061\n",
       "128    -86.585552\n",
       "60     -24.908015\n",
       "209    -82.823021\n",
       "8       10.957782\n",
       "216     -2.397279\n",
       "141    -41.758721\n",
       "115    -81.319117\n",
       "Name: 1, dtype: float64"
      ]
     },
     "execution_count": 141,
     "metadata": {},
     "output_type": "execute_result"
    }
   ],
   "source": [
    "# calculate prediction error\n",
    "pred_y_test = regr.predict(X_test)\n",
    "print(y_test)\n",
    "print(pred_y_test)\n",
    "np.subtract(pred_y_test, y_test + y_train_mean)"
   ]
  },
  {
   "cell_type": "code",
   "execution_count": null,
   "metadata": {},
   "outputs": [],
   "source": [
    "# Random forest"
   ]
  }
 ],
 "metadata": {
  "kernelspec": {
   "display_name": "Python 3",
   "language": "python",
   "name": "python3"
  },
  "language_info": {
   "codemirror_mode": {
    "name": "ipython",
    "version": 3
   },
   "file_extension": ".py",
   "mimetype": "text/x-python",
   "name": "python",
   "nbconvert_exporter": "python",
   "pygments_lexer": "ipython3",
   "version": "3.6.5"
  }
 },
 "nbformat": 4,
 "nbformat_minor": 2
}
