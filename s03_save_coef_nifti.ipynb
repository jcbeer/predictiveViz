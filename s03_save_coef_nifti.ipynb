{
 "cells": [
  {
   "cell_type": "code",
   "execution_count": 45,
   "metadata": {},
   "outputs": [],
   "source": [
    "import nibabel as nib\n",
    "import numpy as np\n",
    "import matplotlib.pyplot as plt\n",
    "import pandas\n",
    "import os\n",
    "%matplotlib inline"
   ]
  },
  {
   "cell_type": "code",
   "execution_count": 46,
   "metadata": {},
   "outputs": [],
   "source": [
    "# load image data\n",
    "data_directory = '/Users/Psyche/neurohack2018/predictiveViz/data'\n",
    "image_fname = os.path.join(data_directory, 'ICgroups.nii')\n",
    "image = nib.load(image_fname)"
   ]
  },
  {
   "cell_type": "code",
   "execution_count": 47,
   "metadata": {},
   "outputs": [
    {
     "name": "stdout",
     "output_type": "stream",
     "text": [
      "(61, 73, 61)\n"
     ]
    }
   ],
   "source": [
    "print(image.shape)"
   ]
  },
  {
   "cell_type": "code",
   "execution_count": 48,
   "metadata": {},
   "outputs": [],
   "source": [
    "# load coefficient data\n",
    "coefs_fname = os.path.join(data_directory, 'coefficients.csv');\n",
    "coefs = pandas.read_csv(coefs_fname);\n",
    "# load masks\n",
    "brainmask_fname = os.path.join(data_directory, 'MNI152maskbinary3mm.csv');\n",
    "brainmask = pandas.read_csv(brainmask_fname, header=None); \n",
    "ROImask_fname = os.path.join(data_directory, 'cortical_mask_new.txt');\n",
    "ROImask = pandas.read_csv(ROImask_fname, header=None);"
   ]
  },
  {
   "cell_type": "code",
   "execution_count": 49,
   "metadata": {},
   "outputs": [
    {
     "name": "stdout",
     "output_type": "stream",
     "text": [
      "(1, 271633)\n",
      "(1, 271633)\n",
      "120\n"
     ]
    }
   ],
   "source": [
    "print(brainmask.shape)\n",
    "print(ROImask.shape)\n",
    "print(coefs.shape[1])"
   ]
  },
  {
   "cell_type": "code",
   "execution_count": 60,
   "metadata": {},
   "outputs": [
    {
     "name": "stdout",
     "output_type": "stream",
     "text": [
      "5252\n"
     ]
    },
    {
     "data": {
      "text/plain": [
       "array([[0, 0, 0, ..., 0, 0, 0]])"
      ]
     },
     "execution_count": 60,
     "metadata": {},
     "output_type": "execute_result"
    }
   ],
   "source": [
    "# create a mask that is the intersection of the two\n",
    "a = np.array(brainmask, dtype=bool)\n",
    "b = np.array(ROImask, dtype=bool)\n",
    "bigbrainROImask = (np.logical_and(a, b))*1\n",
    "print(np.sum(bigbrainROImask==1))\n",
    "bigbrainROImask"
   ]
  },
  {
   "cell_type": "code",
   "execution_count": 61,
   "metadata": {},
   "outputs": [],
   "source": [
    "# create a 4D array -- a 3D array for each set of tuning parameters\n",
    "data4D = np.zeros((int(image.shape[0]), int(image.shape[1]), int(image.shape[2]), coefs.shape[1]))\n",
    "for i in range(coefs.shape[1]):\n",
    "        data = bigbrainROImask.copy()\n",
    "        data[bigbrainROImask==1] = coefs.iloc[:,i]*1000\n",
    "        data4D[:,:,:,i] = np.reshape(data, image.shape, order='F')"
   ]
  },
  {
   "cell_type": "code",
   "execution_count": 62,
   "metadata": {},
   "outputs": [],
   "source": [
    "# create nifti file from the 4D array\n",
    "# copy the header and \n",
    "coef_header = image.header.copy()\n",
    "coef_affine = image.affine.copy()"
   ]
  },
  {
   "cell_type": "code",
   "execution_count": 63,
   "metadata": {},
   "outputs": [
    {
     "name": "stdout",
     "output_type": "stream",
     "text": [
      "<class 'nibabel.nifti1.Nifti1Header'> object, endian='<'\n",
      "sizeof_hdr      : 348\n",
      "data_type       : b''\n",
      "db_name         : b''\n",
      "extents         : 0\n",
      "session_error   : 0\n",
      "regular         : b'r'\n",
      "dim_info        : 0\n",
      "dim             : [ 3 61 73 61  1  1  1  1]\n",
      "intent_p1       : 0.0\n",
      "intent_p2       : 0.0\n",
      "intent_p3       : 0.0\n",
      "intent_code     : none\n",
      "datatype        : uint8\n",
      "bitpix          : 8\n",
      "slice_start     : 0\n",
      "pixdim          : [-1.  3.  3.  3.  0.  0.  0.  0.]\n",
      "vox_offset      : 0.0\n",
      "scl_slope       : nan\n",
      "scl_inter       : nan\n",
      "slice_end       : 0\n",
      "slice_code      : unknown\n",
      "xyzt_units      : 10\n",
      "cal_max         : 0.0\n",
      "cal_min         : 0.0\n",
      "slice_duration  : 0.0\n",
      "toffset         : 0.0\n",
      "glmax           : 0\n",
      "glmin           : 0\n",
      "descrip         : b''\n",
      "aux_file        : b''\n",
      "qform_code      : aligned\n",
      "sform_code      : aligned\n",
      "quatern_b       : 0.0\n",
      "quatern_c       : 1.0\n",
      "quatern_d       : 0.0\n",
      "qoffset_x       : 90.0\n",
      "qoffset_y       : -126.0\n",
      "qoffset_z       : -72.0\n",
      "srow_x          : [-3.  0.  0. 90.]\n",
      "srow_y          : [   0.    3.    0. -126.]\n",
      "srow_z          : [  0.   0.   3. -72.]\n",
      "intent_name     : b''\n",
      "magic           : b'n+1'\n"
     ]
    }
   ],
   "source": [
    "print(coef_header)"
   ]
  },
  {
   "cell_type": "code",
   "execution_count": 64,
   "metadata": {},
   "outputs": [
    {
     "name": "stdout",
     "output_type": "stream",
     "text": [
      "[[  -3.    0.    0.   90.]\n",
      " [   0.    3.    0. -126.]\n",
      " [   0.    0.    3.  -72.]\n",
      " [   0.    0.    0.    1.]]\n",
      "float64\n",
      "\n"
     ]
    }
   ],
   "source": [
    "print(coef_affine)\n",
    "print(data4D.dtype)\n",
    "print()"
   ]
  },
  {
   "cell_type": "code",
   "execution_count": 65,
   "metadata": {},
   "outputs": [],
   "source": [
    "# change data type to integer\n",
    "coef_header.set_data_dtype(np.float32)"
   ]
  },
  {
   "cell_type": "code",
   "execution_count": 66,
   "metadata": {},
   "outputs": [],
   "source": [
    "# create NiBabel nifti image\n",
    "coef_image = nib.Nifti1Image(data4D, coef_affine, coef_header)"
   ]
  },
  {
   "cell_type": "code",
   "execution_count": 67,
   "metadata": {},
   "outputs": [],
   "source": [
    "coef_image.to_filename(os.path.join(data_directory, 'coefs.nii'))"
   ]
  },
  {
   "cell_type": "code",
   "execution_count": null,
   "metadata": {},
   "outputs": [],
   "source": []
  },
  {
   "cell_type": "code",
   "execution_count": null,
   "metadata": {},
   "outputs": [],
   "source": []
  },
  {
   "cell_type": "code",
   "execution_count": null,
   "metadata": {},
   "outputs": [],
   "source": []
  }
 ],
 "metadata": {
  "kernelspec": {
   "display_name": "Python 3",
   "language": "python",
   "name": "python3"
  },
  "language_info": {
   "codemirror_mode": {
    "name": "ipython",
    "version": 3
   },
   "file_extension": ".py",
   "mimetype": "text/x-python",
   "name": "python",
   "nbconvert_exporter": "python",
   "pygments_lexer": "ipython3",
   "version": "3.6.5"
  }
 },
 "nbformat": 4,
 "nbformat_minor": 2
}
